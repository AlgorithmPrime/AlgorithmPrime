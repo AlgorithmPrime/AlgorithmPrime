{
  "cells": [
    {
      "cell_type": "code",
      "execution_count": null,
      "metadata": {},
      "outputs": [],
      "source": [
        "from google.colab import files\n",
        "uploaded = files.upload()\n\n",
        "# Save the uploaded .py file (should be named empiric_frequency_sieve.py)\n",
        "import shutil\n",
        "shutil.move(list(uploaded.keys())[0], 'empiric_frequency_sieve.py')"
      ]
    },
    {
      "cell_type": "code",
      "execution_count": null,
      "metadata": {},
      "outputs": [],
      "source": [
        "from empiric_frequency_sieve import empiric_frequency_sieve\n",
        "import time\n\n",
        "limit = 10_000_000  # Test range up to 10 million\n",
        "start = time.time()\n",
        "result = empiric_frequency_sieve(limit)\n",
        "end = time.time()\n\n",
        "print(f\"Execution time: {end - start:.2f} seconds\")\n",
        "print(f\"Primes found: {len(result)}\")\n",
        "print(f\"First 10 primes: {result[:10]}\")"
      ]
    },
    {
      "cell_type": "code",
      "execution_count": null,
      "metadata": {},
      "outputs": [],
      "source": [
        "# Validation: compare results with official prime list from sympy\n",
        "try:\n",
        "    from sympy import primerange\n",
        "except ImportError:\n",
        "    !pip install sympy\n",
        "    from sympy import primerange\n\n",
        "expected = list(primerange(1, limit + 1))\n",
        "print(\"Coincide:\", result == expected)\n\n",
        "if result != expected:\n",
        "    for i in range(min(len(result), len(expected))):\n",
        "        if result[i] != expected[i]:\n",
        "            print(f\"Mismatch at index {i}: expected {expected[i]}, got {result[i]}\")\n",
        "            break\n",
        "    print(\"Missing:\", len(set(expected) - set(result)))\n",
        "    print(\"Extra:\", len(set(result) - set(expected)))"
      ]
    },
    {
      "cell_type": "markdown",
      "metadata": {},
      "source": [
        "## Notes\n",
        "- This notebook runs a fast test of the empirical frequency sieve up to 10 million.\n",
        "- It also validates the result against the official prime list from `sympy`.\n",
        "- You must upload the `empiric_frequency_sieve.py` file when prompted."
      ]
    }
  ],
  "metadata": {
    "kernelspec": {
      "display_name": "Python 3",
      "language": "python",
      "name": "python3"
    },
    "language_info": {
      "name": "python",
      "version": "3.9"
    }
  },
  "nbformat": 4,
  "nbformat_minor": 5
}